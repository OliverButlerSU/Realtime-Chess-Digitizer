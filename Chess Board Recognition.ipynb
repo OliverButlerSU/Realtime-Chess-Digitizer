version https://git-lfs.github.com/spec/v1
oid sha256:9b0cbc4d1a9ed51dae489f2e9e83ce824f168af3f618aab8d71f0b790dd4d2cc
size 136260498
