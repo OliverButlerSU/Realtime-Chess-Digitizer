version https://git-lfs.github.com/spec/v1
oid sha256:a193733aa1fbab7358fd1a7735e93681d0f580df9bf300582f66cf94e2d00c02
size 342323
