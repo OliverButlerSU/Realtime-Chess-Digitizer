version https://git-lfs.github.com/spec/v1
oid sha256:4f9a970a3b218ebbc95ed665cce50bfc49e75cb6f24b4ca1b07c37e5ece11732
size 1715828
