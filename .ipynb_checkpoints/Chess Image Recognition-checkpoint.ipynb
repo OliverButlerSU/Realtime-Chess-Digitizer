version https://git-lfs.github.com/spec/v1
oid sha256:24727ef8358f07573ae29b2a0a452cc5606b87aad6685b7a1189f81402c943ff
size 562902
