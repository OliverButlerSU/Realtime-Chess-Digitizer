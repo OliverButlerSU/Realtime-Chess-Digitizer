version https://git-lfs.github.com/spec/v1
oid sha256:f3c745e5eb42268954c83d236e58fc71c56c5b342f51da4ea6164751a66c5420
size 13772532
