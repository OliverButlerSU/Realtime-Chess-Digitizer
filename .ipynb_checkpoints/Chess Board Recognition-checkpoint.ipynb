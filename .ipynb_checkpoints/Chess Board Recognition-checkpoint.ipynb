version https://git-lfs.github.com/spec/v1
oid sha256:55898aa6a002ed0cca002902163d43e32e780f7eb79757452f5080031c6cddd5
size 118567540
