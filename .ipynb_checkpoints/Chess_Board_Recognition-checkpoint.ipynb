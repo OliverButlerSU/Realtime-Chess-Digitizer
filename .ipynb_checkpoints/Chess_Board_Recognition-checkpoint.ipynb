version https://git-lfs.github.com/spec/v1
oid sha256:7289cc047bd72c6f2c998d3cc8f10f5298e8a04803770218bfd4ad113006d94b
size 62996321
